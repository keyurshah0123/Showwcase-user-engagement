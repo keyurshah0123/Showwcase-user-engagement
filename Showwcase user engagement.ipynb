{
 "cells": [
  {
   "cell_type": "code",
   "execution_count": 1,
   "metadata": {},
   "outputs": [],
   "source": [
    "import numpy as np\n",
    "import pandas as pd\n",
    "\n"
   ]
  },
  {
   "cell_type": "code",
   "execution_count": 3,
   "metadata": {},
   "outputs": [],
   "source": [
    "###Data Import###\n",
    "user_details=pd.read_csv('K:/Downloads/showwcase_sessions.csv')"
   ]
  },
  {
   "cell_type": "code",
   "execution_count": 4,
   "metadata": {},
   "outputs": [
    {
     "data": {
      "text/html": [
       "<div>\n",
       "<style scoped>\n",
       "    .dataframe tbody tr th:only-of-type {\n",
       "        vertical-align: middle;\n",
       "    }\n",
       "\n",
       "    .dataframe tbody tr th {\n",
       "        vertical-align: top;\n",
       "    }\n",
       "\n",
       "    .dataframe thead th {\n",
       "        text-align: right;\n",
       "    }\n",
       "</style>\n",
       "<table border=\"1\" class=\"dataframe\">\n",
       "  <thead>\n",
       "    <tr style=\"text-align: right;\">\n",
       "      <th></th>\n",
       "      <th>session_id</th>\n",
       "      <th>customer_id</th>\n",
       "      <th>login_date</th>\n",
       "      <th>projects_added</th>\n",
       "      <th>likes_given</th>\n",
       "      <th>comment_given</th>\n",
       "      <th>inactive_status</th>\n",
       "      <th>bug_occured</th>\n",
       "      <th>session_projects_added</th>\n",
       "      <th>session_likes_given</th>\n",
       "      <th>session_comments_given</th>\n",
       "      <th>inactive_duration</th>\n",
       "      <th>bugs_in_session</th>\n",
       "      <th>session_duration</th>\n",
       "    </tr>\n",
       "  </thead>\n",
       "  <tbody>\n",
       "    <tr>\n",
       "      <th>0</th>\n",
       "      <td>624205.0</td>\n",
       "      <td>80746.0</td>\n",
       "      <td>10/30/19</td>\n",
       "      <td>False</td>\n",
       "      <td>True</td>\n",
       "      <td>True</td>\n",
       "      <td>True</td>\n",
       "      <td>False</td>\n",
       "      <td>0.0</td>\n",
       "      <td>24.0</td>\n",
       "      <td>3.0</td>\n",
       "      <td>1146.0</td>\n",
       "      <td>0.0</td>\n",
       "      <td>1564.0</td>\n",
       "    </tr>\n",
       "    <tr>\n",
       "      <th>1</th>\n",
       "      <td>624241.0</td>\n",
       "      <td>24520.0</td>\n",
       "      <td>10/30/19</td>\n",
       "      <td>True</td>\n",
       "      <td>True</td>\n",
       "      <td>True</td>\n",
       "      <td>True</td>\n",
       "      <td>False</td>\n",
       "      <td>2.0</td>\n",
       "      <td>3.0</td>\n",
       "      <td>5.0</td>\n",
       "      <td>133.0</td>\n",
       "      <td>0.0</td>\n",
       "      <td>1766.0</td>\n",
       "    </tr>\n",
       "    <tr>\n",
       "      <th>2</th>\n",
       "      <td>111002.0</td>\n",
       "      <td>32047.0</td>\n",
       "      <td>10/30/19</td>\n",
       "      <td>True</td>\n",
       "      <td>True</td>\n",
       "      <td>True</td>\n",
       "      <td>True</td>\n",
       "      <td>False</td>\n",
       "      <td>1.0</td>\n",
       "      <td>5.0</td>\n",
       "      <td>5.0</td>\n",
       "      <td>1571.0</td>\n",
       "      <td>0.0</td>\n",
       "      <td>2230.0</td>\n",
       "    </tr>\n",
       "    <tr>\n",
       "      <th>3</th>\n",
       "      <td>545113.0</td>\n",
       "      <td>23404.0</td>\n",
       "      <td>10/30/19</td>\n",
       "      <td>True</td>\n",
       "      <td>True</td>\n",
       "      <td>True</td>\n",
       "      <td>False</td>\n",
       "      <td>False</td>\n",
       "      <td>1.0</td>\n",
       "      <td>10.0</td>\n",
       "      <td>21.0</td>\n",
       "      <td>0.0</td>\n",
       "      <td>0.0</td>\n",
       "      <td>633.0</td>\n",
       "    </tr>\n",
       "    <tr>\n",
       "      <th>4</th>\n",
       "      <td>750269.0</td>\n",
       "      <td>40235.0</td>\n",
       "      <td>10/30/19</td>\n",
       "      <td>True</td>\n",
       "      <td>True</td>\n",
       "      <td>False</td>\n",
       "      <td>True</td>\n",
       "      <td>False</td>\n",
       "      <td>3.0</td>\n",
       "      <td>16.0</td>\n",
       "      <td>0.0</td>\n",
       "      <td>1405.0</td>\n",
       "      <td>0.0</td>\n",
       "      <td>1679.0</td>\n",
       "    </tr>\n",
       "  </tbody>\n",
       "</table>\n",
       "</div>"
      ],
      "text/plain": [
       "   session_id  customer_id login_date projects_added likes_given  \\\n",
       "0    624205.0      80746.0   10/30/19          False        True   \n",
       "1    624241.0      24520.0   10/30/19           True        True   \n",
       "2    111002.0      32047.0   10/30/19           True        True   \n",
       "3    545113.0      23404.0   10/30/19           True        True   \n",
       "4    750269.0      40235.0   10/30/19           True        True   \n",
       "\n",
       "  comment_given inactive_status bug_occured  session_projects_added  \\\n",
       "0          True            True       False                     0.0   \n",
       "1          True            True       False                     2.0   \n",
       "2          True            True       False                     1.0   \n",
       "3          True           False       False                     1.0   \n",
       "4         False            True       False                     3.0   \n",
       "\n",
       "   session_likes_given  session_comments_given  inactive_duration  \\\n",
       "0                 24.0                     3.0             1146.0   \n",
       "1                  3.0                     5.0              133.0   \n",
       "2                  5.0                     5.0             1571.0   \n",
       "3                 10.0                    21.0                0.0   \n",
       "4                 16.0                     0.0             1405.0   \n",
       "\n",
       "   bugs_in_session  session_duration  \n",
       "0              0.0            1564.0  \n",
       "1              0.0            1766.0  \n",
       "2              0.0            2230.0  \n",
       "3              0.0             633.0  \n",
       "4              0.0            1679.0  "
      ]
     },
     "execution_count": 4,
     "metadata": {},
     "output_type": "execute_result"
    }
   ],
   "source": [
    "user_details.head()"
   ]
  },
  {
   "cell_type": "code",
   "execution_count": 5,
   "metadata": {},
   "outputs": [
    {
     "data": {
      "text/plain": [
       "session_id                2\n",
       "customer_id               2\n",
       "login_date                2\n",
       "projects_added            2\n",
       "likes_given               2\n",
       "comment_given             2\n",
       "inactive_status           2\n",
       "bug_occured               2\n",
       "session_projects_added    2\n",
       "session_likes_given       3\n",
       "session_comments_given    2\n",
       "inactive_duration         2\n",
       "bugs_in_session           2\n",
       "session_duration          2\n",
       "dtype: int64"
      ]
     },
     "execution_count": 5,
     "metadata": {},
     "output_type": "execute_result"
    }
   ],
   "source": [
    "###Checking Null values(Data cleaning)####\n",
    "user_details.isna().sum()"
   ]
  },
  {
   "cell_type": "code",
   "execution_count": 7,
   "metadata": {},
   "outputs": [],
   "source": [
    "###Removing null values to avoid redundancy###\n",
    "user_details= user_details.dropna()"
   ]
  },
  {
   "cell_type": "code",
   "execution_count": 8,
   "metadata": {},
   "outputs": [
    {
     "data": {
      "text/plain": [
       "session_id                0\n",
       "customer_id               0\n",
       "login_date                0\n",
       "projects_added            0\n",
       "likes_given               0\n",
       "comment_given             0\n",
       "inactive_status           0\n",
       "bug_occured               0\n",
       "session_projects_added    0\n",
       "session_likes_given       0\n",
       "session_comments_given    0\n",
       "inactive_duration         0\n",
       "bugs_in_session           0\n",
       "session_duration          0\n",
       "dtype: int64"
      ]
     },
     "execution_count": 8,
     "metadata": {},
     "output_type": "execute_result"
    }
   ],
   "source": [
    "user_details.isna().sum()"
   ]
  },
  {
   "cell_type": "code",
   "execution_count": 9,
   "metadata": {},
   "outputs": [
    {
     "data": {
      "text/html": [
       "<div>\n",
       "<style scoped>\n",
       "    .dataframe tbody tr th:only-of-type {\n",
       "        vertical-align: middle;\n",
       "    }\n",
       "\n",
       "    .dataframe tbody tr th {\n",
       "        vertical-align: top;\n",
       "    }\n",
       "\n",
       "    .dataframe thead th {\n",
       "        text-align: right;\n",
       "    }\n",
       "</style>\n",
       "<table border=\"1\" class=\"dataframe\">\n",
       "  <thead>\n",
       "    <tr style=\"text-align: right;\">\n",
       "      <th></th>\n",
       "      <th>session_id</th>\n",
       "      <th>customer_id</th>\n",
       "      <th>login_date</th>\n",
       "      <th>projects_added</th>\n",
       "      <th>likes_given</th>\n",
       "      <th>comment_given</th>\n",
       "      <th>inactive_status</th>\n",
       "      <th>bug_occured</th>\n",
       "      <th>session_projects_added</th>\n",
       "      <th>session_likes_given</th>\n",
       "      <th>session_comments_given</th>\n",
       "      <th>inactive_duration</th>\n",
       "      <th>bugs_in_session</th>\n",
       "      <th>session_duration</th>\n",
       "    </tr>\n",
       "  </thead>\n",
       "  <tbody>\n",
       "    <tr>\n",
       "      <th>0</th>\n",
       "      <td>624205.0</td>\n",
       "      <td>80746.0</td>\n",
       "      <td>10/30/19</td>\n",
       "      <td>0</td>\n",
       "      <td>1</td>\n",
       "      <td>1</td>\n",
       "      <td>1</td>\n",
       "      <td>0</td>\n",
       "      <td>0.0</td>\n",
       "      <td>24.0</td>\n",
       "      <td>3.0</td>\n",
       "      <td>1146.0</td>\n",
       "      <td>0.0</td>\n",
       "      <td>1564.0</td>\n",
       "    </tr>\n",
       "    <tr>\n",
       "      <th>1</th>\n",
       "      <td>624241.0</td>\n",
       "      <td>24520.0</td>\n",
       "      <td>10/30/19</td>\n",
       "      <td>1</td>\n",
       "      <td>1</td>\n",
       "      <td>1</td>\n",
       "      <td>1</td>\n",
       "      <td>0</td>\n",
       "      <td>2.0</td>\n",
       "      <td>3.0</td>\n",
       "      <td>5.0</td>\n",
       "      <td>133.0</td>\n",
       "      <td>0.0</td>\n",
       "      <td>1766.0</td>\n",
       "    </tr>\n",
       "    <tr>\n",
       "      <th>2</th>\n",
       "      <td>111002.0</td>\n",
       "      <td>32047.0</td>\n",
       "      <td>10/30/19</td>\n",
       "      <td>1</td>\n",
       "      <td>1</td>\n",
       "      <td>1</td>\n",
       "      <td>1</td>\n",
       "      <td>0</td>\n",
       "      <td>1.0</td>\n",
       "      <td>5.0</td>\n",
       "      <td>5.0</td>\n",
       "      <td>1571.0</td>\n",
       "      <td>0.0</td>\n",
       "      <td>2230.0</td>\n",
       "    </tr>\n",
       "    <tr>\n",
       "      <th>3</th>\n",
       "      <td>545113.0</td>\n",
       "      <td>23404.0</td>\n",
       "      <td>10/30/19</td>\n",
       "      <td>1</td>\n",
       "      <td>1</td>\n",
       "      <td>1</td>\n",
       "      <td>0</td>\n",
       "      <td>0</td>\n",
       "      <td>1.0</td>\n",
       "      <td>10.0</td>\n",
       "      <td>21.0</td>\n",
       "      <td>0.0</td>\n",
       "      <td>0.0</td>\n",
       "      <td>633.0</td>\n",
       "    </tr>\n",
       "    <tr>\n",
       "      <th>4</th>\n",
       "      <td>750269.0</td>\n",
       "      <td>40235.0</td>\n",
       "      <td>10/30/19</td>\n",
       "      <td>1</td>\n",
       "      <td>1</td>\n",
       "      <td>0</td>\n",
       "      <td>1</td>\n",
       "      <td>0</td>\n",
       "      <td>3.0</td>\n",
       "      <td>16.0</td>\n",
       "      <td>0.0</td>\n",
       "      <td>1405.0</td>\n",
       "      <td>0.0</td>\n",
       "      <td>1679.0</td>\n",
       "    </tr>\n",
       "  </tbody>\n",
       "</table>\n",
       "</div>"
      ],
      "text/plain": [
       "   session_id  customer_id login_date projects_added likes_given  \\\n",
       "0    624205.0      80746.0   10/30/19              0           1   \n",
       "1    624241.0      24520.0   10/30/19              1           1   \n",
       "2    111002.0      32047.0   10/30/19              1           1   \n",
       "3    545113.0      23404.0   10/30/19              1           1   \n",
       "4    750269.0      40235.0   10/30/19              1           1   \n",
       "\n",
       "  comment_given inactive_status bug_occured  session_projects_added  \\\n",
       "0             1               1           0                     0.0   \n",
       "1             1               1           0                     2.0   \n",
       "2             1               1           0                     1.0   \n",
       "3             1               0           0                     1.0   \n",
       "4             0               1           0                     3.0   \n",
       "\n",
       "   session_likes_given  session_comments_given  inactive_duration  \\\n",
       "0                 24.0                     3.0             1146.0   \n",
       "1                  3.0                     5.0              133.0   \n",
       "2                  5.0                     5.0             1571.0   \n",
       "3                 10.0                    21.0                0.0   \n",
       "4                 16.0                     0.0             1405.0   \n",
       "\n",
       "   bugs_in_session  session_duration  \n",
       "0              0.0            1564.0  \n",
       "1              0.0            1766.0  \n",
       "2              0.0            2230.0  \n",
       "3              0.0             633.0  \n",
       "4              0.0            1679.0  "
      ]
     },
     "execution_count": 9,
     "metadata": {},
     "output_type": "execute_result"
    }
   ],
   "source": [
    "###Renaming to 0/1 \n",
    "user_details = user_details*1\n",
    "user_details.head()"
   ]
  },
  {
   "cell_type": "code",
   "execution_count": 12,
   "metadata": {},
   "outputs": [
    {
     "data": {
      "text/plain": [
       "10/26/19    21\n",
       "10/21/19    15\n",
       "10/11/19    14\n",
       "10/5/19     14\n",
       "10/15/19    14\n",
       "10/10/19    14\n",
       "10/7/19     13\n",
       "10/6/19     12\n",
       "10/20/19    12\n",
       "10/24/19    12\n",
       "10/18/19    11\n",
       "10/22/19    11\n",
       "10/13/19    11\n",
       "10/19/19    11\n",
       "10/28/19    10\n",
       "10/3/19     10\n",
       "10/9/19     10\n",
       "10/4/19      9\n",
       "10/1/19      9\n",
       "10/30/19     9\n",
       "10/12/19     8\n",
       "10/8/19      8\n",
       "10/27/19     7\n",
       "10/29/19     7\n",
       "10/25/19     6\n",
       "10/17/19     5\n",
       "10/2/19      5\n",
       "10/23/19     4\n",
       "10/16/19     4\n",
       "10/14/19     3\n",
       "Name: login_date, dtype: int64"
      ]
     },
     "execution_count": 12,
     "metadata": {},
     "output_type": "execute_result"
    }
   ],
   "source": [
    "login = user_details['login_date'].value_counts()\n",
    "login"
   ]
  },
  {
   "cell_type": "code",
   "execution_count": 13,
   "metadata": {},
   "outputs": [
    {
     "data": {
      "text/plain": [
       "<matplotlib.axes._subplots.AxesSubplot at 0x254856b9e50>"
      ]
     },
     "execution_count": 13,
     "metadata": {},
     "output_type": "execute_result"
    },
    {
     "data": {
      "image/png": "[encoded data removed]",
      "text/plain": [
       "<Figure size 432x288 with 1 Axes>"
      ]
     },
     "metadata": {
      "needs_background": "light"
     },
     "output_type": "display_data"
    }
   ],
   "source": [
    "\n",
    "login.plot.barh()\n"
   ]
  },
  {
   "cell_type": "code",
   "execution_count": 20,
   "metadata": {},
   "outputs": [],
   "source": [
    "user_details.to_csv(\"K:/Downloads/user_session.csv\",index = False,encoding='utf-8-sig')"
   ]
  },
  {
   "cell_type": "code",
   "execution_count": null,
   "metadata": {},
   "outputs": [],
   "source": []
  }
 ],
 "metadata": {
  "kernelspec": {
   "display_name": "Python 3",
   "language": "python",
   "name": "python3"
  },
  "language_info": {
   "codemirror_mode": {
    "name": "ipython",
    "version": 3
   },
   "file_extension": ".py",
   "mimetype": "text/x-python",
   "name": "python",
   "nbconvert_exporter": "python",
   "pygments_lexer": "ipython3",
   "version": "3.8.3"
  }
 },
 "nbformat": 4,
 "nbformat_minor": 4
}
